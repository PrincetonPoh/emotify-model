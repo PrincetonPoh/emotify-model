{
  "cells": [
    {
      "cell_type": "markdown",
      "metadata": {
        "id": "Zt4RgEz0lQMl",
        "colab_type": "text"
      },
      "source": [
        "## Import the necessary packages"
      ]
    },
    {
      "cell_type": "code",
      "metadata": {
        "id": "R9Iae_mXi-5H",
        "colab_type": "code",
        "outputId": "976c0f99-c607-4a30-9033-0ff1328d0cfd",
        "colab": {
          "base_uri": "https://localhost:8080/",
          "height": 51
        }
      },
      "source": [
        "print(\"begining import...\")\n",
        "# TensorFlow and tf.keras\n",
        "import tensorflow as tf\n",
        "from tensorflow import keras\n",
        "\n",
        "\n",
        "# Helper libraries\n",
        "import pandas as pd\n",
        "import numpy as np\n",
        "import matplotlib.pyplot as plt\n",
        "import re\n",
        "import nltk\n",
        "from keras.preprocessing.sequence import pad_sequences\n",
        "from tensorflow.python.keras.preprocessing import sequence\n",
        "from tensorflow.python.keras.preprocessing import text\n",
        "from sklearn.model_selection import train_test_split\n",
        "\n",
        "\n",
        "print(\"[+] Using Keras version\",keras.__version__)\n"
      ],
      "execution_count": 1,
      "outputs": [
        {
          "output_type": "error",
          "ename": "SyntaxError",
          "evalue": "invalid syntax (<ipython-input-1-1eb55afc3bb3>, line 3)",
          "traceback": [
            "\u001b[0;36m  File \u001b[0;32m\"<ipython-input-1-1eb55afc3bb3>\"\u001b[0;36m, line \u001b[0;32m3\u001b[0m\n\u001b[0;31m    import tensorflow as tf,\u001b[0m\n\u001b[0m                            ^\u001b[0m\n\u001b[0;31mSyntaxError\u001b[0m\u001b[0;31m:\u001b[0m invalid syntax\n"
          ]
        }
      ]
    },
    {
      "cell_type": "code",
      "metadata": {
        "id": "CvbrNCuHG1jw",
        "colab_type": "code",
        "outputId": "d64e8922-4825-402e-8db7-5966b6776af0",
        "colab": {
          "base_uri": "https://localhost:8080/",
          "height": 204
        }
      },
      "source": [
        "  CSV_DATA_URL = \"https://raw.githubusercontent.com/orzymandias/emotify-model/master/data/data.csv\"\n",
        "  df = pd.read_csv(CSV_DATA_URL, names=[\"content\", \"sentiment\"])\n",
        "  df.head()"
      ],
      "execution_count": 81,
      "outputs": [
        {
          "output_type": "execute_result",
          "data": {
            "text/plain": "                                             content sentiment\n0  I hope all the Romo haters see how much we nee...     anger\n1  When your boyfriend promised he'd take you for...     anger\n2  The whole fucking team did their part EXCEPT K...     anger\n3  @hannah_wootton @JessicaTidball @millyharrison...     anger\n4    @CANDYCORNTIME and I never rap battled. #pissed     anger",
            "text/html": "<div>\n<style scoped>\n    .dataframe tbody tr th:only-of-type {\n        vertical-align: middle;\n    }\n\n    .dataframe tbody tr th {\n        vertical-align: top;\n    }\n\n    .dataframe thead th {\n        text-align: right;\n    }\n</style>\n<table border=\"1\" class=\"dataframe\">\n  <thead>\n    <tr style=\"text-align: right;\">\n      <th></th>\n      <th>content</th>\n      <th>sentiment</th>\n    </tr>\n  </thead>\n  <tbody>\n    <tr>\n      <th>0</th>\n      <td>I hope all the Romo haters see how much we nee...</td>\n      <td>anger</td>\n    </tr>\n    <tr>\n      <th>1</th>\n      <td>When your boyfriend promised he'd take you for...</td>\n      <td>anger</td>\n    </tr>\n    <tr>\n      <th>2</th>\n      <td>The whole fucking team did their part EXCEPT K...</td>\n      <td>anger</td>\n    </tr>\n    <tr>\n      <th>3</th>\n      <td>@hannah_wootton @JessicaTidball @millyharrison...</td>\n      <td>anger</td>\n    </tr>\n    <tr>\n      <th>4</th>\n      <td>@CANDYCORNTIME and I never rap battled. #pissed</td>\n      <td>anger</td>\n    </tr>\n  </tbody>\n</table>\n</div>"
          },
          "metadata": {},
          "execution_count": 81
        }
      ]
    },
    {
      "cell_type": "code",
      "metadata": {
        "id": "RhLY5Xa9aUGk",
        "colab_type": "code",
        "outputId": "7ab5cb8f-5053-4093-f5d5-043684f577b1",
        "colab": {
          "base_uri": "https://localhost:8080/",
          "height": 221
        }
      },
      "source": [
        "df = df.drop_duplicates(subset=['content'], keep='first')  # remove duplicate data\n",
        "df = df[(df.sentiment == \"sadness\") # filtering emotions of interest\n",
        "    | (df.sentiment == \"anger\") \n",
        "    | (df.sentiment == \"joy\")\n",
        "    | (df.sentiment == \"happiness\")\n",
        "    | (df.sentiment == \"fun\") \n",
        "    | (df.sentiment == \"fearful\")\n",
        "    | (df.sentiment == \"fear\") \n",
        "    | (df.sentiment == \"hate\")\n",
        "    | (df.sentiment == \"hate\")\n",
        "    | (df.sentiment == \"empty\")]\n",
        "df = df.reset_index(drop=True)\n",
        "print(df.shape)\n",
        "df.head()"
      ],
      "execution_count": 54,
      "outputs": [
        {
          "output_type": "stream",
          "name": "stdout",
          "text": "(48266, 2)\n"
        },
        {
          "output_type": "execute_result",
          "data": {
            "text/plain": "                                             content sentiment\n0  I hope all the Romo haters see how much we nee...     anger\n1  When your boyfriend promised he'd take you for...     anger\n2  The whole fucking team did their part EXCEPT K...     anger\n3  @hannah_wootton @JessicaTidball @millyharrison...     anger\n4    @CANDYCORNTIME and I never rap battled. #pissed     anger",
            "text/html": "<div>\n<style scoped>\n    .dataframe tbody tr th:only-of-type {\n        vertical-align: middle;\n    }\n\n    .dataframe tbody tr th {\n        vertical-align: top;\n    }\n\n    .dataframe thead th {\n        text-align: right;\n    }\n</style>\n<table border=\"1\" class=\"dataframe\">\n  <thead>\n    <tr style=\"text-align: right;\">\n      <th></th>\n      <th>content</th>\n      <th>sentiment</th>\n    </tr>\n  </thead>\n  <tbody>\n    <tr>\n      <th>0</th>\n      <td>I hope all the Romo haters see how much we nee...</td>\n      <td>anger</td>\n    </tr>\n    <tr>\n      <th>1</th>\n      <td>When your boyfriend promised he'd take you for...</td>\n      <td>anger</td>\n    </tr>\n    <tr>\n      <th>2</th>\n      <td>The whole fucking team did their part EXCEPT K...</td>\n      <td>anger</td>\n    </tr>\n    <tr>\n      <th>3</th>\n      <td>@hannah_wootton @JessicaTidball @millyharrison...</td>\n      <td>anger</td>\n    </tr>\n    <tr>\n      <th>4</th>\n      <td>@CANDYCORNTIME and I never rap battled. #pissed</td>\n      <td>anger</td>\n    </tr>\n  </tbody>\n</table>\n</div>"
          },
          "metadata": {},
          "execution_count": 54
        }
      ]
    },
    {
      "cell_type": "markdown",
      "metadata": {
        "id": "9Y2KtQEgTnzK",
        "colab_type": "text"
      },
      "source": [
        "#### Data Imbalance\n",
        "We discover that we have an imbalanced dataset - there are overlapping categories and disproportional categories.\n",
        "\n",
        "\n"
      ]
    },
    {
      "cell_type": "code",
      "metadata": {
        "id": "UcyLp3Dv20wG",
        "colab_type": "code",
        "outputId": "30a5c5d7-4cb2-443c-ef84-2c4493367159",
        "colab": {
          "base_uri": "https://localhost:8080/",
          "height": 493
        }
      },
      "source": [
        "print(df.sentiment.value_counts())\n",
        "df['sentiment'].value_counts().plot(kind='bar')\n"
      ],
      "execution_count": null,
      "outputs": []
    },
    {
      "cell_type": "markdown",
      "metadata": {
        "id": "KkHi1Kx3byni",
        "colab_type": "text"
      },
      "source": [
        "#### Actions to be taken:\n",
        "\n",
        "*   Merge the happiness, joy and fun\n",
        "*   Merge the anger and hate classes\n",
        "*   Merge the sadness and empty classes\n",
        "*   Merge the worry and fear classes\n",
        "* Down-sampling the majority class ensure balance"
      ]
    },
    {
      "cell_type": "code",
      "metadata": {
        "id": "nZzQtx9DbyDf",
        "colab_type": "code",
        "outputId": "a267c206-4a0c-4712-c0c9-7d8d9582965c",
        "colab": {
          "base_uri": "https://localhost:8080/",
          "height": 102
        }
      },
      "source": [
        "\n",
        "df.dropna(inplace = True)\n",
        "df[\"sentiment\"] = df[\"sentiment\"].replace({'empty': 'sadness', \"hate\": \"anger\",\"fun\": \"happiness\",  \"joy\": \"happiness\", \"fearful\": \"fear\"})\n",
        "print(df.sentiment.value_counts())\n"
      ],
      "execution_count": null,
      "outputs": []
    },
    {
      "cell_type": "markdown",
      "metadata": {
        "id": "4VkiSuCYYF0M",
        "colab_type": "text"
      },
      "source": [
        "#### Downsampling to achieve balance \n",
        "\n",
        "* Achieving balance is critical to ensure tha tt the model is not overtrained and overfits for a particular feature\n"
      ]
    },
    {
      "cell_type": "code",
      "metadata": {
        "id": "-kEwM2ESbFah",
        "colab_type": "code",
        "outputId": "c183c70d-c970-4028-be37-45a9f4355aac",
        "colab": {
          "base_uri": "https://localhost:8080/",
          "height": 102
        }
      },
      "source": [
        "happiness, worry, sadness, anger = df.sentiment.value_counts()\n",
        "df_fear = df[df[\"sentiment\"] == \"fear\"].sample(10000)\n",
        "df_happiness = df[df[\"sentiment\"] == \"happiness\"].sample(10000)\n",
        "df_sadness = df[df[\"sentiment\"] == \"sadness\"].sample(10000)\n",
        "df_anger = df[df[\"sentiment\"] == \"anger\"].sample(10000)\n",
        "df = pd.concat([df_fear, df_happiness, df_sadness, df_anger], axis=0)\n",
        "\n",
        "df.reset_index(drop=True, inplace=True)\n",
        "print(df.sentiment.value_counts())\n"
      ],
      "execution_count": 69,
      "outputs": [
        {
          "output_type": "stream",
          "name": "stdout",
          "text": "happiness    10000\nfear         10000\nanger        10000\nsadness      10000\nName: sentiment, dtype: int64\n"
        }
      ]
    },
    {
      "cell_type": "markdown",
      "metadata": {
        "id": "fk-7INJ5djtK",
        "colab_type": "text"
      },
      "source": [
        "### Key Metrics of usable dataset\n",
        "  * Number of samples: 40,000\n",
        "  * Number of classes: 4\n",
        "  * Number of samples per class: 4000/5000\n",
        "  * Median words per sample: 14\n",
        "  * Samples/words-per-sample ratio: 1357 (borderline 1500)"
      ]
    },
    {
      "cell_type": "code",
      "metadata": {
        "id": "QqW6OkT7dvuP",
        "colab_type": "code",
        "outputId": "06100599-2640-4812-f4e8-7253d9288de1",
        "colab": {
          "base_uri": "https://localhost:8080/",
          "height": 68
        }
      },
      "source": [
        "def get_num_words_per_sample(sample_texts):\n",
        "    \"\"\"Returns the median number of words per sample given corpus.\n",
        "\n",
        "    # Arguments\n",
        "        sample_texts: list, sample texts.\n",
        "\n",
        "    # Returns\n",
        "        int, median number of words per sample.\n",
        "    \"\"\"\n",
        "    num_words = [len(s.split()) for s in sample_texts]\n",
        "    return np.median(num_words)\n",
        "print(\"\\n\\nMedian number of words per sample: \", get_num_words_per_sample(df['content']))\n"
      ],
      "execution_count": null,
      "outputs": []
    },
    {
      "cell_type": "markdown",
      "metadata": {
        "id": "kZxVLyAwliBx",
        "colab_type": "text"
      },
      "source": [
        "## Preprocessing and Data Cleaning\n",
        "\n",
        "\n",
        "\n",
        "\n"
      ]
    },
    {
      "cell_type": "markdown",
      "metadata": {
        "id": "yXHyNFrf7StC",
        "colab_type": "text"
      },
      "source": [
        "#### Encoding Emotions to Ids\n",
        "\n",
        "* 0 - anger  \n",
        "* 1 - fear\n",
        "* 2 - happiness\n",
        "* 3 - sadness\n",
        "\n"
      ]
    },
    {
      "cell_type": "code",
      "metadata": {
        "id": "1dKl76Uz7SDQ",
        "colab_type": "code",
        "outputId": "d7b481b4-12b8-427f-a7d5-f182bc6adc93",
        "colab": {
          "base_uri": "https://localhost:8080/",
          "height": 419
        }
      },
      "source": [
        "df['sentiment'] = pd.Categorical(df['sentiment'])\n",
        "df['sentiment'] = df.sentiment.cat.codes\n",
        "df.head(17888)"
      ],
      "execution_count": null,
      "outputs": []
    },
    {
      "cell_type": "markdown",
      "metadata": {
        "id": "MT8BqfyWlS-5",
        "colab_type": "text"
      },
      "source": [
        "#### Clean tweets\n",
        "\n"
      ]
    },
    {
      "cell_type": "code",
      "metadata": {
        "id": "T16LqgjusfdO",
        "colab_type": "code",
        "outputId": "50317446-ee1c-4417-bd88-8f2b5672aa31",
        "colab": {
          "base_uri": "https://localhost:8080/",
          "height": 85
        }
      },
      "source": [
        "!pip install tweet-preprocessor\n",
        "import preprocessor as p\n",
        "import nltk\n",
        "nltk.download('stopwords')"
      ],
      "execution_count": 18,
      "outputs": [
        {
          "output_type": "stream",
          "name": "stdout",
          "text": "Defaulting to user installation because normal site-packages is not writeable\nCollecting tweet-preprocessor\n  Using cached tweet-preprocessor-0.6.0.tar.gz (14 kB)\n\u001b[31m    ERROR: Command errored out with exit status 1:\n     command: /usr/bin/python -c 'import sys, setuptools, tokenize; sys.argv[0] = '\"'\"'/tmp/pip-install-8a4eAZ/tweet-preprocessor/setup.py'\"'\"'; __file__='\"'\"'/tmp/pip-install-8a4eAZ/tweet-preprocessor/setup.py'\"'\"';f=getattr(tokenize, '\"'\"'open'\"'\"', open)(__file__);code=f.read().replace('\"'\"'\\r\\n'\"'\"', '\"'\"'\\n'\"'\"');f.close();exec(compile(code, __file__, '\"'\"'exec'\"'\"'))' egg_info --egg-base /tmp/pip-pip-egg-info-IhNxLk\n         cwd: /tmp/pip-install-8a4eAZ/tweet-preprocessor/\n    Complete output (5 lines):\n    Traceback (most recent call last):\n      File \"<string>\", line 1, in <module>\n      File \"/tmp/pip-install-8a4eAZ/tweet-preprocessor/setup.py\", line 4, in <module>\n        with open('README.rst', encoding='utf-8', errors='ignore') as f:\n    TypeError: 'errors' is an invalid keyword argument for this function\n    ----------------------------------------\u001b[0m\n\u001b[31mERROR: Command errored out with exit status 1: python setup.py egg_info Check the logs for full command output.\u001b[0m\n"
        },
        {
          "output_type": "error",
          "ename": "ModuleNotFoundError",
          "evalue": "No module named 'preprocessor'",
          "traceback": [
            "\u001b[0;31m---------------------------------------------------------------------------\u001b[0m",
            "\u001b[0;31mModuleNotFoundError\u001b[0m                       Traceback (most recent call last)",
            "\u001b[0;32m<ipython-input-18-ae25185614f3>\u001b[0m in \u001b[0;36m<module>\u001b[0;34m\u001b[0m\n\u001b[1;32m      1\u001b[0m \u001b[0mget_ipython\u001b[0m\u001b[0;34m(\u001b[0m\u001b[0;34m)\u001b[0m\u001b[0;34m.\u001b[0m\u001b[0msystem\u001b[0m\u001b[0;34m(\u001b[0m\u001b[0;34m'pip install tweet-preprocessor'\u001b[0m\u001b[0;34m)\u001b[0m\u001b[0;34m\u001b[0m\u001b[0;34m\u001b[0m\u001b[0m\n\u001b[0;32m----> 2\u001b[0;31m \u001b[0;32mimport\u001b[0m \u001b[0mpreprocessor\u001b[0m \u001b[0;32mas\u001b[0m \u001b[0mp\u001b[0m\u001b[0;34m\u001b[0m\u001b[0;34m\u001b[0m\u001b[0m\n\u001b[0m\u001b[1;32m      3\u001b[0m \u001b[0;32mimport\u001b[0m \u001b[0mnltk\u001b[0m\u001b[0;34m\u001b[0m\u001b[0;34m\u001b[0m\u001b[0m\n\u001b[1;32m      4\u001b[0m \u001b[0mnltk\u001b[0m\u001b[0;34m.\u001b[0m\u001b[0mdownload\u001b[0m\u001b[0;34m(\u001b[0m\u001b[0;34m'stopwords'\u001b[0m\u001b[0;34m)\u001b[0m\u001b[0;34m\u001b[0m\u001b[0;34m\u001b[0m\u001b[0m\n",
            "\u001b[0;31mModuleNotFoundError\u001b[0m: No module named 'preprocessor'"
          ]
        }
      ]
    },
    {
      "cell_type": "code",
      "metadata": {
        "id": "Ud6OIxVowEEG",
        "colab_type": "code",
        "outputId": "66db1410-419b-4e1e-b079-1df5dc677745",
        "colab": {
          "base_uri": "https://localhost:8080/",
          "height": 408
        }
      },
      "source": [
        "from nltk.corpus import stopwords\n",
        "\n",
        "print(df.content.head(10))\n",
        "def clean_sentence(sentence):\n",
        "    # removing handles and links\n",
        "    sentence = ' '.join(re.sub(\"(@[A-Za-z0-9]+)|([^0-9A-Za-z \\t])|(\\w+:\\/\\/\\S+)\",\" \",sentence).split())\n",
        "\n",
        "    # removing stopwords\n",
        "    # stop_words = list(stopwords.words('english'))   \n",
        "    # sentence = \" \".join([word.lower() for word in sentence.split() if word not in (stop_words)])   \n",
        "    sentence = \" \".join([word.lower() for word in sentence.split()])   \n",
        "    \n",
        "    p.set_options(p.OPT.URL, p.OPT.EMOJI)\n",
        "    return p.clean(sentence)\n",
        "\n",
        "\n",
        "df['content'] = df['content'].map(lambda x: clean_sentence(x))\n",
        "\n",
        "print(\"-------------------- After cleaning--------------------\")\n",
        "print(df.content.head(10))\n",
        "    "
      ],
      "execution_count": null,
      "outputs": []
    },
    {
      "cell_type": "markdown",
      "metadata": {
        "id": "6FqEdZJb5XbK",
        "colab_type": "text"
      },
      "source": [
        "#### Spliting training and test set\n",
        "\n",
        "\n"
      ]
    },
    {
      "cell_type": "code",
      "metadata": {
        "id": "IEK2QtXf5g4n",
        "colab_type": "code",
        "outputId": "e0de140f-14b4-4642-98ac-08a6ecaaa33d",
        "colab": {
          "base_uri": "https://localhost:8080/",
          "height": 51
        }
      },
      "source": [
        "sentiment = df.pop(\"sentiment\")\n",
        "content = df\n",
        "\n",
        "x_train, y_train, x_test, y_test = train_test_split(content, sentiment, test_size=0.20, shuffle=True, random_state=42)\n",
        "print(\" Training: size\", x_train.shape[0])\n",
        "print(\" Validation size:\",y_train.shape[0])\n",
        "training_data, validation_data, training_label, validation_label = np.array(x_train.content), np.array(y_train.content), np.array(x_test), np.array(y_test)\n",
        "\n"
      ],
      "execution_count": 22,
      "outputs": [
        {
          "output_type": "error",
          "ename": "KeyError",
          "evalue": "'sentiment'",
          "traceback": [
            "\u001b[0;31m---------------------------------------------------------------------------\u001b[0m",
            "\u001b[0;31mKeyError\u001b[0m                                  Traceback (most recent call last)",
            "\u001b[0;32m~/.local/lib/python3.8/site-packages/pandas/core/indexes/base.py\u001b[0m in \u001b[0;36mget_loc\u001b[0;34m(self, key, method, tolerance)\u001b[0m\n\u001b[1;32m   2645\u001b[0m             \u001b[0;32mtry\u001b[0m\u001b[0;34m:\u001b[0m\u001b[0;34m\u001b[0m\u001b[0;34m\u001b[0m\u001b[0m\n\u001b[0;32m-> 2646\u001b[0;31m                 \u001b[0;32mreturn\u001b[0m \u001b[0mself\u001b[0m\u001b[0;34m.\u001b[0m\u001b[0m_engine\u001b[0m\u001b[0;34m.\u001b[0m\u001b[0mget_loc\u001b[0m\u001b[0;34m(\u001b[0m\u001b[0mkey\u001b[0m\u001b[0;34m)\u001b[0m\u001b[0;34m\u001b[0m\u001b[0;34m\u001b[0m\u001b[0m\n\u001b[0m\u001b[1;32m   2647\u001b[0m             \u001b[0;32mexcept\u001b[0m \u001b[0mKeyError\u001b[0m\u001b[0;34m:\u001b[0m\u001b[0;34m\u001b[0m\u001b[0;34m\u001b[0m\u001b[0m\n",
            "\u001b[0;32mpandas/_libs/index.pyx\u001b[0m in \u001b[0;36mpandas._libs.index.IndexEngine.get_loc\u001b[0;34m()\u001b[0m\n",
            "\u001b[0;32mpandas/_libs/index.pyx\u001b[0m in \u001b[0;36mpandas._libs.index.IndexEngine.get_loc\u001b[0;34m()\u001b[0m\n",
            "\u001b[0;32mpandas/_libs/hashtable_class_helper.pxi\u001b[0m in \u001b[0;36mpandas._libs.hashtable.PyObjectHashTable.get_item\u001b[0;34m()\u001b[0m\n",
            "\u001b[0;32mpandas/_libs/hashtable_class_helper.pxi\u001b[0m in \u001b[0;36mpandas._libs.hashtable.PyObjectHashTable.get_item\u001b[0;34m()\u001b[0m\n",
            "\u001b[0;31mKeyError\u001b[0m: 'sentiment'",
            "\nDuring handling of the above exception, another exception occurred:\n",
            "\u001b[0;31mKeyError\u001b[0m                                  Traceback (most recent call last)",
            "\u001b[0;32m<ipython-input-22-db0167040385>\u001b[0m in \u001b[0;36m<module>\u001b[0;34m\u001b[0m\n\u001b[0;32m----> 1\u001b[0;31m \u001b[0msentiment\u001b[0m \u001b[0;34m=\u001b[0m \u001b[0mdf\u001b[0m\u001b[0;34m.\u001b[0m\u001b[0mpop\u001b[0m\u001b[0;34m(\u001b[0m\u001b[0;34m\"sentiment\"\u001b[0m\u001b[0;34m)\u001b[0m\u001b[0;34m\u001b[0m\u001b[0;34m\u001b[0m\u001b[0m\n\u001b[0m\u001b[1;32m      2\u001b[0m \u001b[0mcontent\u001b[0m \u001b[0;34m=\u001b[0m \u001b[0mdf\u001b[0m\u001b[0;34m\u001b[0m\u001b[0;34m\u001b[0m\u001b[0m\n\u001b[1;32m      3\u001b[0m \u001b[0;34m\u001b[0m\u001b[0m\n\u001b[1;32m      4\u001b[0m \u001b[0mx_train\u001b[0m\u001b[0;34m,\u001b[0m \u001b[0my_train\u001b[0m\u001b[0;34m,\u001b[0m \u001b[0mx_test\u001b[0m\u001b[0;34m,\u001b[0m \u001b[0my_test\u001b[0m \u001b[0;34m=\u001b[0m \u001b[0mtrain_test_split\u001b[0m\u001b[0;34m(\u001b[0m\u001b[0mcontent\u001b[0m\u001b[0;34m,\u001b[0m \u001b[0msentiment\u001b[0m\u001b[0;34m,\u001b[0m \u001b[0mtest_size\u001b[0m\u001b[0;34m=\u001b[0m\u001b[0;36m0.20\u001b[0m\u001b[0;34m,\u001b[0m \u001b[0mshuffle\u001b[0m\u001b[0;34m=\u001b[0m\u001b[0;32mTrue\u001b[0m\u001b[0;34m,\u001b[0m \u001b[0mrandom_state\u001b[0m\u001b[0;34m=\u001b[0m\u001b[0;36m42\u001b[0m\u001b[0;34m)\u001b[0m\u001b[0;34m\u001b[0m\u001b[0;34m\u001b[0m\u001b[0m\n\u001b[1;32m      5\u001b[0m \u001b[0mprint\u001b[0m\u001b[0;34m(\u001b[0m\u001b[0;34m\" Training: size\"\u001b[0m\u001b[0;34m,\u001b[0m \u001b[0mx_train\u001b[0m\u001b[0;34m.\u001b[0m\u001b[0mshape\u001b[0m\u001b[0;34m[\u001b[0m\u001b[0;36m0\u001b[0m\u001b[0;34m]\u001b[0m\u001b[0;34m)\u001b[0m\u001b[0;34m\u001b[0m\u001b[0;34m\u001b[0m\u001b[0m\n",
            "\u001b[0;32m~/.local/lib/python3.8/site-packages/pandas/core/generic.py\u001b[0m in \u001b[0;36mpop\u001b[0;34m(self, item)\u001b[0m\n\u001b[1;32m    788\u001b[0m         \u001b[0;36m3\u001b[0m  \u001b[0mmonkey\u001b[0m        \u001b[0mNaN\u001b[0m\u001b[0;34m\u001b[0m\u001b[0;34m\u001b[0m\u001b[0m\n\u001b[1;32m    789\u001b[0m         \"\"\"\n\u001b[0;32m--> 790\u001b[0;31m         \u001b[0mresult\u001b[0m \u001b[0;34m=\u001b[0m \u001b[0mself\u001b[0m\u001b[0;34m[\u001b[0m\u001b[0mitem\u001b[0m\u001b[0;34m]\u001b[0m\u001b[0;34m\u001b[0m\u001b[0;34m\u001b[0m\u001b[0m\n\u001b[0m\u001b[1;32m    791\u001b[0m         \u001b[0;32mdel\u001b[0m \u001b[0mself\u001b[0m\u001b[0;34m[\u001b[0m\u001b[0mitem\u001b[0m\u001b[0;34m]\u001b[0m\u001b[0;34m\u001b[0m\u001b[0;34m\u001b[0m\u001b[0m\n\u001b[1;32m    792\u001b[0m         \u001b[0;32mtry\u001b[0m\u001b[0;34m:\u001b[0m\u001b[0;34m\u001b[0m\u001b[0;34m\u001b[0m\u001b[0m\n",
            "\u001b[0;32m~/.local/lib/python3.8/site-packages/pandas/core/frame.py\u001b[0m in \u001b[0;36m__getitem__\u001b[0;34m(self, key)\u001b[0m\n\u001b[1;32m   2798\u001b[0m             \u001b[0;32mif\u001b[0m \u001b[0mself\u001b[0m\u001b[0;34m.\u001b[0m\u001b[0mcolumns\u001b[0m\u001b[0;34m.\u001b[0m\u001b[0mnlevels\u001b[0m \u001b[0;34m>\u001b[0m \u001b[0;36m1\u001b[0m\u001b[0;34m:\u001b[0m\u001b[0;34m\u001b[0m\u001b[0;34m\u001b[0m\u001b[0m\n\u001b[1;32m   2799\u001b[0m                 \u001b[0;32mreturn\u001b[0m \u001b[0mself\u001b[0m\u001b[0;34m.\u001b[0m\u001b[0m_getitem_multilevel\u001b[0m\u001b[0;34m(\u001b[0m\u001b[0mkey\u001b[0m\u001b[0;34m)\u001b[0m\u001b[0;34m\u001b[0m\u001b[0;34m\u001b[0m\u001b[0m\n\u001b[0;32m-> 2800\u001b[0;31m             \u001b[0mindexer\u001b[0m \u001b[0;34m=\u001b[0m \u001b[0mself\u001b[0m\u001b[0;34m.\u001b[0m\u001b[0mcolumns\u001b[0m\u001b[0;34m.\u001b[0m\u001b[0mget_loc\u001b[0m\u001b[0;34m(\u001b[0m\u001b[0mkey\u001b[0m\u001b[0;34m)\u001b[0m\u001b[0;34m\u001b[0m\u001b[0;34m\u001b[0m\u001b[0m\n\u001b[0m\u001b[1;32m   2801\u001b[0m             \u001b[0;32mif\u001b[0m \u001b[0mis_integer\u001b[0m\u001b[0;34m(\u001b[0m\u001b[0mindexer\u001b[0m\u001b[0;34m)\u001b[0m\u001b[0;34m:\u001b[0m\u001b[0;34m\u001b[0m\u001b[0;34m\u001b[0m\u001b[0m\n\u001b[1;32m   2802\u001b[0m                 \u001b[0mindexer\u001b[0m \u001b[0;34m=\u001b[0m \u001b[0;34m[\u001b[0m\u001b[0mindexer\u001b[0m\u001b[0;34m]\u001b[0m\u001b[0;34m\u001b[0m\u001b[0;34m\u001b[0m\u001b[0m\n",
            "\u001b[0;32m~/.local/lib/python3.8/site-packages/pandas/core/indexes/base.py\u001b[0m in \u001b[0;36mget_loc\u001b[0;34m(self, key, method, tolerance)\u001b[0m\n\u001b[1;32m   2646\u001b[0m                 \u001b[0;32mreturn\u001b[0m \u001b[0mself\u001b[0m\u001b[0;34m.\u001b[0m\u001b[0m_engine\u001b[0m\u001b[0;34m.\u001b[0m\u001b[0mget_loc\u001b[0m\u001b[0;34m(\u001b[0m\u001b[0mkey\u001b[0m\u001b[0;34m)\u001b[0m\u001b[0;34m\u001b[0m\u001b[0;34m\u001b[0m\u001b[0m\n\u001b[1;32m   2647\u001b[0m             \u001b[0;32mexcept\u001b[0m \u001b[0mKeyError\u001b[0m\u001b[0;34m:\u001b[0m\u001b[0;34m\u001b[0m\u001b[0;34m\u001b[0m\u001b[0m\n\u001b[0;32m-> 2648\u001b[0;31m                 \u001b[0;32mreturn\u001b[0m \u001b[0mself\u001b[0m\u001b[0;34m.\u001b[0m\u001b[0m_engine\u001b[0m\u001b[0;34m.\u001b[0m\u001b[0mget_loc\u001b[0m\u001b[0;34m(\u001b[0m\u001b[0mself\u001b[0m\u001b[0;34m.\u001b[0m\u001b[0m_maybe_cast_indexer\u001b[0m\u001b[0;34m(\u001b[0m\u001b[0mkey\u001b[0m\u001b[0;34m)\u001b[0m\u001b[0;34m)\u001b[0m\u001b[0;34m\u001b[0m\u001b[0;34m\u001b[0m\u001b[0m\n\u001b[0m\u001b[1;32m   2649\u001b[0m         \u001b[0mindexer\u001b[0m \u001b[0;34m=\u001b[0m \u001b[0mself\u001b[0m\u001b[0;34m.\u001b[0m\u001b[0mget_indexer\u001b[0m\u001b[0;34m(\u001b[0m\u001b[0;34m[\u001b[0m\u001b[0mkey\u001b[0m\u001b[0;34m]\u001b[0m\u001b[0;34m,\u001b[0m \u001b[0mmethod\u001b[0m\u001b[0;34m=\u001b[0m\u001b[0mmethod\u001b[0m\u001b[0;34m,\u001b[0m \u001b[0mtolerance\u001b[0m\u001b[0;34m=\u001b[0m\u001b[0mtolerance\u001b[0m\u001b[0;34m)\u001b[0m\u001b[0;34m\u001b[0m\u001b[0;34m\u001b[0m\u001b[0m\n\u001b[1;32m   2650\u001b[0m         \u001b[0;32mif\u001b[0m \u001b[0mindexer\u001b[0m\u001b[0;34m.\u001b[0m\u001b[0mndim\u001b[0m \u001b[0;34m>\u001b[0m \u001b[0;36m1\u001b[0m \u001b[0;32mor\u001b[0m \u001b[0mindexer\u001b[0m\u001b[0;34m.\u001b[0m\u001b[0msize\u001b[0m \u001b[0;34m>\u001b[0m \u001b[0;36m1\u001b[0m\u001b[0;34m:\u001b[0m\u001b[0;34m\u001b[0m\u001b[0;34m\u001b[0m\u001b[0m\n",
            "\u001b[0;32mpandas/_libs/index.pyx\u001b[0m in \u001b[0;36mpandas._libs.index.IndexEngine.get_loc\u001b[0;34m()\u001b[0m\n",
            "\u001b[0;32mpandas/_libs/index.pyx\u001b[0m in \u001b[0;36mpandas._libs.index.IndexEngine.get_loc\u001b[0;34m()\u001b[0m\n",
            "\u001b[0;32mpandas/_libs/hashtable_class_helper.pxi\u001b[0m in \u001b[0;36mpandas._libs.hashtable.PyObjectHashTable.get_item\u001b[0;34m()\u001b[0m\n",
            "\u001b[0;32mpandas/_libs/hashtable_class_helper.pxi\u001b[0m in \u001b[0;36mpandas._libs.hashtable.PyObjectHashTable.get_item\u001b[0;34m()\u001b[0m\n",
            "\u001b[0;31mKeyError\u001b[0m: 'sentiment'"
          ]
        }
      ]
    },
    {
      "cell_type": "markdown",
      "metadata": {
        "id": "ZertRsiwinWH",
        "colab_type": "text"
      },
      "source": [
        "#### Model Parameters"
      ]
    },
    {
      "cell_type": "code",
      "metadata": {
        "id": "ybO1HGc3ixUt",
        "colab_type": "code",
        "colab": {}
      },
      "source": [
        "TOP_K = 10000\n",
        "MAX_SEQUENCE_LENGTH = 28\n",
        "num_classes = 4\n"
      ],
      "execution_count": null,
      "outputs": []
    },
    {
      "cell_type": "markdown",
      "metadata": {
        "id": "8ZrRxU_l00ZC",
        "colab_type": "text"
      },
      "source": [
        "#### Tokenization and Vectorization\n",
        "\n",
        "* Tokenizes the texts into words\n",
        "* Creates a vocabulary using the top 20,000 tokens\n",
        "* Converts the tokens into sequence vectors\n",
        "* Pads the sequences to a fixed sequence length\n"
      ]
    },
    {
      "cell_type": "code",
      "metadata": {
        "id": "0a4mjKr207iS",
        "colab_type": "code",
        "outputId": "1effe836-a12c-4a65-e453-fdd863cd5bd6",
        "colab": {
          "base_uri": "https://localhost:8080/",
          "height": 190
        }
      },
      "source": [
        "from keras.preprocessing.sequence import pad_sequences\n",
        "from keras.preprocessing.text import Tokenizer\n",
        "def sequence_vectorize(train_texts, val_texts):\n",
        "   \n",
        "    # Create vocabulary with training texts.\n",
        "    tokenizer = text.Tokenizer(num_words=TOP_K)\n",
        "    tokenizer.fit_on_texts(train_texts)\n",
        "    print(\"tokenizer\", train_texts)\n",
        "\n",
        "    # Vectorize training and validation texts.\n",
        "    x_train = tokenizer.texts_to_sequences(train_texts)\n",
        "    x_val = tokenizer.texts_to_sequences(val_texts)\n",
        "    print(\"training_data_vectorized\", x_train)\n",
        "    print(\"validation_data_vectorized\", x_val)\n",
        "\n",
        "    # Sequences shorter than the length are\n",
        "    # padded in the beginning and sequences longer are truncated\n",
        "    # at the beginning.\n",
        "    x_train = sequence.pad_sequences(x_train, maxlen=MAX_SEQUENCE_LENGTH)\n",
        "    x_val = sequence.pad_sequences(x_val, maxlen=MAX_SEQUENCE_LENGTH)\n",
        "    return x_train, x_val, tokenizer.word_index\n",
        "\n",
        "training_data_vectorized, validation_data_vectorized, word_index = sequence_vectorize(training_data,validation_data)\n",
        "print(training_data_vectorized[0].shape)"
      ],
      "execution_count": 26,
      "outputs": [
        {
          "output_type": "error",
          "ename": "ModuleNotFoundError",
          "evalue": "No module named 'keras'",
          "traceback": [
            "\u001b[0;31m---------------------------------------------------------------------------\u001b[0m",
            "\u001b[0;31mModuleNotFoundError\u001b[0m                       Traceback (most recent call last)",
            "\u001b[0;32m<ipython-input-26-3556ecb9fbb5>\u001b[0m in \u001b[0;36m<module>\u001b[0;34m\u001b[0m\n\u001b[0;32m----> 1\u001b[0;31m \u001b[0;32mfrom\u001b[0m \u001b[0mkeras\u001b[0m\u001b[0;34m.\u001b[0m\u001b[0mpreprocessing\u001b[0m\u001b[0;34m.\u001b[0m\u001b[0msequence\u001b[0m \u001b[0;32mimport\u001b[0m \u001b[0mpad_sequences\u001b[0m\u001b[0;34m\u001b[0m\u001b[0;34m\u001b[0m\u001b[0m\n\u001b[0m\u001b[1;32m      2\u001b[0m \u001b[0;32mfrom\u001b[0m \u001b[0mkeras\u001b[0m\u001b[0;34m.\u001b[0m\u001b[0mpreprocessing\u001b[0m\u001b[0;34m.\u001b[0m\u001b[0mtext\u001b[0m \u001b[0;32mimport\u001b[0m \u001b[0mTokenizer\u001b[0m\u001b[0;34m\u001b[0m\u001b[0;34m\u001b[0m\u001b[0m\n\u001b[1;32m      3\u001b[0m \u001b[0;32mdef\u001b[0m \u001b[0msequence_vectorize\u001b[0m\u001b[0;34m(\u001b[0m\u001b[0mtrain_texts\u001b[0m\u001b[0;34m,\u001b[0m \u001b[0mval_texts\u001b[0m\u001b[0;34m)\u001b[0m\u001b[0;34m:\u001b[0m\u001b[0;34m\u001b[0m\u001b[0;34m\u001b[0m\u001b[0m\n\u001b[1;32m      4\u001b[0m \u001b[0;34m\u001b[0m\u001b[0m\n\u001b[1;32m      5\u001b[0m     \u001b[0;31m# Create vocabulary with training texts.\u001b[0m\u001b[0;34m\u001b[0m\u001b[0;34m\u001b[0m\u001b[0;34m\u001b[0m\u001b[0m\n",
            "\u001b[0;31mModuleNotFoundError\u001b[0m: No module named 'keras'"
          ]
        }
      ]
    },
    {
      "cell_type": "code",
      "metadata": {
        "id": "GiyTabMekWFE",
        "colab_type": "code",
        "outputId": "fa9ec814-cb4f-4e7d-f26a-debca9de8565",
        "colab": {
          "base_uri": "https://localhost:8080/",
          "height": 34
        }
      },
      "source": [
        "validation_data_vectorized.shape"
      ],
      "execution_count": 29,
      "outputs": [
        {
          "output_type": "error",
          "ename": "NameError",
          "evalue": "name 'validation_data_vectorized' is not defined",
          "traceback": [
            "\u001b[0;31m---------------------------------------------------------------------------\u001b[0m",
            "\u001b[0;31mNameError\u001b[0m                                 Traceback (most recent call last)",
            "\u001b[0;32m<ipython-input-29-ccd7f337da01>\u001b[0m in \u001b[0;36m<module>\u001b[0;34m\u001b[0m\n\u001b[0;32m----> 1\u001b[0;31m \u001b[0mvalidation_data_vectorized\u001b[0m\u001b[0;34m.\u001b[0m\u001b[0mshape\u001b[0m\u001b[0;34m\u001b[0m\u001b[0;34m\u001b[0m\u001b[0m\n\u001b[0m",
            "\u001b[0;31mNameError\u001b[0m: name 'validation_data_vectorized' is not defined"
          ]
        }
      ]
    },
    {
      "cell_type": "markdown",
      "metadata": {
        "id": "kOCOgd-uEHp2",
        "colab_type": "text"
      },
      "source": [
        "####Model 1: sepCNN\n",
        "  * Tensorflow documentation"
      ]
    },
    {
      "cell_type": "code",
      "metadata": {
        "id": "X2ufBb1mEIgK",
        "colab_type": "code",
        "colab": {}
      },
      "source": [
        "# from tensorflow.python.keras import models\n",
        "# from tensorflow.python.keras import initializers\n",
        "# from tensorflow.python.keras import regularizers\n",
        "\n",
        "# from tensorflow.python.keras.layers import Dense\n",
        "# from tensorflow.python.keras.layers import Dropout\n",
        "# from tensorflow.python.keras.layers import Embedding\n",
        "# from tensorflow.python.keras.layers import SeparableConv1D\n",
        "# from tensorflow.python.keras.layers import MaxPooling1D\n",
        "# from tensorflow.python.keras.layers import GlobalAveragePooling1D\n",
        "\n",
        "# def sepcnn_model(blocks,\n",
        "#                  filters,\n",
        "#                  kernel_size,\n",
        "#                  embedding_dim,\n",
        "#                  dropout_rate,\n",
        "#                  pool_size,\n",
        "#                  input_shape,\n",
        "#                  num_classes,\n",
        "#                  num_features):\n",
        "\n",
        "#     op_units, op_activation = num_classes, \"softmax\"\n",
        "#     model = models.Sequential()\n",
        "#     model.add(Embedding(input_dim=TOP_K + 1,\n",
        "#                           output_dim=embedding_dim,\n",
        "#                           input_length=input_shape))\n",
        "\n",
        "#     for _ in range(blocks-1):\n",
        "#         model.add(Dropout(rate=dropout_rate))\n",
        "#         model.add(SeparableConv1D(filters=filters,\n",
        "#                                   kernel_size=kernel_size,\n",
        "#                                   activation='relu',\n",
        "#                                   bias_initializer='random_uniform',\n",
        "#                                   depthwise_initializer='random_uniform',\n",
        "#                                   padding='same'))\n",
        "#         model.add(SeparableConv1D(filters=filters,\n",
        "#                                   kernel_size=kernel_size,\n",
        "#                                   activation='relu',\n",
        "#                                   bias_initializer='random_uniform',\n",
        "#                                   depthwise_initializer='random_uniform',\n",
        "#                                   padding='same'))\n",
        "#         model.add(MaxPooling1D(pool_size=pool_size))\n",
        "\n",
        "#     model.add(SeparableConv1D(filters=filters * 2,\n",
        "#                               kernel_size=kernel_size,\n",
        "#                               activation='relu',\n",
        "#                               bias_initializer='random_uniform',\n",
        "#                               depthwise_initializer='random_uniform',\n",
        "#                               padding='same'))\n",
        "#     model.add(SeparableConv1D(filters=filters * 2,\n",
        "#                               kernel_size=kernel_size,\n",
        "#                               activation='relu',\n",
        "#                               bias_initializer='random_uniform',\n",
        "#                               depthwise_initializer='random_uniform',\n",
        "#                               padding='same'))\n",
        "#     model.add(GlobalAveragePooling1D())\n",
        "#     model.add(Dropout(rate=dropout_rate))\n",
        "#     model.add(Dense(op_units, activation=op_activation))\n",
        "#     model.summary()\n",
        "#     return model\n",
        "\n",
        "# model = sepcnn_model(blocks=2,\n",
        "#                      filters=64,\n",
        "#                      kernel_size=3,  # Kenel size: recommended 3 or 5\n",
        "#                      dropout_rate=0.3, # Dropout rate, reccomended range: 0.2–0.5.,\n",
        "#                      pool_size=3, \n",
        "#                      num_classes=4,\n",
        "#                      input_shape= MAX_SEQUENCE_LENGTH,\n",
        "#                      embedding_dim=200, # Embedding Dimension: size of each word vector. Recommended values: 50–300\n",
        "#                      num_features=TOP_K)"
      ],
      "execution_count": null,
      "outputs": []
    },
    {
      "cell_type": "markdown",
      "metadata": {
        "id": "NUFkhGAWsuoJ",
        "colab_type": "text"
      },
      "source": [
        "#### Model 2: CNN\n",
        "\n",
        "* loss: 0.8516 - acc: 0.6304 - val_loss: 0.8652 - val_acc: 0.6229\n",
        "* loss: 0.8539 - acc: 0.6303 - val_loss: 0.8567 - val_acc: 0.6270"
      ]
    },
    {
      "cell_type": "code",
      "metadata": {
        "id": "oSpW-Xx2CyOp",
        "colab_type": "code",
        "outputId": "aa9bd414-fe1d-4bf6-a008-52b81981e61e",
        "colab": {
          "base_uri": "https://localhost:8080/",
          "height": 459
        }
      },
      "source": [
        "from tensorflow.python.keras import models\n",
        "from tensorflow.python.keras import initializers\n",
        "from tensorflow.python.keras import regularizers\n",
        "\n",
        "from keras import models\n",
        "from keras.layers import Dense, Dropout, Activation\n",
        "from keras.layers import Embedding\n",
        "from keras.layers import Conv1D, GlobalMaxPooling1D\n",
        "from keras.preprocessing.text import Tokenizer\n",
        "\n",
        "def cnn_Model(dropout_rate, num_classes):\n",
        "    model = models.Sequential()\n",
        "    model.add(Embedding(TOP_K + 1,\n",
        "                        50,\n",
        "                        input_length=MAX_SEQUENCE_LENGTH))\n",
        "    model.add(Dropout(dropout_rate))\n",
        "    model.add(Conv1D(64,\n",
        "                     4,\n",
        "                     padding='valid',\n",
        "                     activation='relu',\n",
        "                     strides=1))\n",
        "    model.add(GlobalMaxPooling1D())\n",
        "    model.add(Dense(256))\n",
        "    model.add(Dropout(dropout_rate))\n",
        "    model.add(Activation('relu'))\n",
        "    model.add(Dropout(rate=dropout_rate))\n",
        "    model.add(Dense(num_classes, activation=\"sigmoid\"))\n",
        "    # model.add(Dense(num_classes, activation=\"softmax\"))\n",
        "    model.summary()\n",
        "\n",
        "    return model\n",
        "\n",
        "\n",
        "\n",
        "model = cnn_Model(num_classes=num_classes, dropout_rate=0.2)\n"
      ],
      "execution_count": 32,
      "outputs": [
        {
          "output_type": "error",
          "ename": "ModuleNotFoundError",
          "evalue": "No module named 'keras'",
          "traceback": [
            "\u001b[0;31m---------------------------------------------------------------------------\u001b[0m",
            "\u001b[0;31mModuleNotFoundError\u001b[0m                       Traceback (most recent call last)",
            "\u001b[0;32m<ipython-input-32-b630ec35a7b3>\u001b[0m in \u001b[0;36m<module>\u001b[0;34m\u001b[0m\n\u001b[1;32m      3\u001b[0m \u001b[0;32mfrom\u001b[0m \u001b[0mtensorflow\u001b[0m\u001b[0;34m.\u001b[0m\u001b[0mpython\u001b[0m\u001b[0;34m.\u001b[0m\u001b[0mkeras\u001b[0m \u001b[0;32mimport\u001b[0m \u001b[0mregularizers\u001b[0m\u001b[0;34m\u001b[0m\u001b[0;34m\u001b[0m\u001b[0m\n\u001b[1;32m      4\u001b[0m \u001b[0;34m\u001b[0m\u001b[0m\n\u001b[0;32m----> 5\u001b[0;31m \u001b[0;32mfrom\u001b[0m \u001b[0mkeras\u001b[0m \u001b[0;32mimport\u001b[0m \u001b[0mmodels\u001b[0m\u001b[0;34m\u001b[0m\u001b[0;34m\u001b[0m\u001b[0m\n\u001b[0m\u001b[1;32m      6\u001b[0m \u001b[0;32mfrom\u001b[0m \u001b[0mkeras\u001b[0m\u001b[0;34m.\u001b[0m\u001b[0mlayers\u001b[0m \u001b[0;32mimport\u001b[0m \u001b[0mDense\u001b[0m\u001b[0;34m,\u001b[0m \u001b[0mDropout\u001b[0m\u001b[0;34m,\u001b[0m \u001b[0mActivation\u001b[0m\u001b[0;34m\u001b[0m\u001b[0;34m\u001b[0m\u001b[0m\n\u001b[1;32m      7\u001b[0m \u001b[0;32mfrom\u001b[0m \u001b[0mkeras\u001b[0m\u001b[0;34m.\u001b[0m\u001b[0mlayers\u001b[0m \u001b[0;32mimport\u001b[0m \u001b[0mEmbedding\u001b[0m\u001b[0;34m\u001b[0m\u001b[0;34m\u001b[0m\u001b[0m\n",
            "\u001b[0;31mModuleNotFoundError\u001b[0m: No module named 'keras'"
          ]
        }
      ]
    },
    {
      "cell_type": "markdown",
      "metadata": {
        "id": "2wcax_Ils-X_",
        "colab_type": "text"
      },
      "source": [
        "####Model 3: RNN LSTM Model\n",
        "* Performance\n",
        "  * loss: 0.8149 - acc: 0.6585 - val_loss: 0.8769 - val_acc: 0.6173\n",
        "  * loss: 0.8156 - acc: 0.6591 - val_loss: 0.8729 - val_acc: 0.6227\n",
        "\n"
      ]
    },
    {
      "cell_type": "code",
      "metadata": {
        "id": "JihGxdX9slB1",
        "colab_type": "code",
        "outputId": "c1483e27-a98d-4730-9ddb-ed0d6ba4899f",
        "colab": {
          "base_uri": "https://localhost:8080/",
          "height": 0
        }
      },
      "source": [
        "from keras import models\n",
        "from keras.layers import Embedding, Dense, LSTM, Dropout, SpatialDropout1D\n",
        "\n",
        "def lstm_RNN(num_classes, dropout_rate):\n",
        "    model = models.Sequential()\n",
        "    model.add(Embedding(TOP_K,\n",
        "                        200,\n",
        "                        input_length=MAX_SEQUENCE_LENGTH))\n",
        "    model.add(SpatialDropout1D(0.2))\n",
        "    model.add(LSTM(50, dropout=dropout_rate, recurrent_dropout=0.3))\n",
        "    model.add(Dropout(dropout_rate))\n",
        "    model.add(Dense(num_classes, activation=\"softmax\"))\n",
        "    model.summary()\n",
        "    return model\n",
        "\n",
        "model = lstm_RNN(4, 0.2)"
      ],
      "execution_count": 35,
      "outputs": [
        {
          "output_type": "error",
          "ename": "ModuleNotFoundError",
          "evalue": "No module named 'keras'",
          "traceback": [
            "\u001b[0;31m---------------------------------------------------------------------------\u001b[0m",
            "\u001b[0;31mModuleNotFoundError\u001b[0m                       Traceback (most recent call last)",
            "\u001b[0;32m<ipython-input-35-8219c2e1949c>\u001b[0m in \u001b[0;36m<module>\u001b[0;34m\u001b[0m\n\u001b[0;32m----> 1\u001b[0;31m \u001b[0;32mfrom\u001b[0m \u001b[0mkeras\u001b[0m \u001b[0;32mimport\u001b[0m \u001b[0mmodels\u001b[0m\u001b[0;34m\u001b[0m\u001b[0;34m\u001b[0m\u001b[0m\n\u001b[0m\u001b[1;32m      2\u001b[0m \u001b[0;32mfrom\u001b[0m \u001b[0mkeras\u001b[0m\u001b[0;34m.\u001b[0m\u001b[0mlayers\u001b[0m \u001b[0;32mimport\u001b[0m \u001b[0mEmbedding\u001b[0m\u001b[0;34m,\u001b[0m \u001b[0mDense\u001b[0m\u001b[0;34m,\u001b[0m \u001b[0mLSTM\u001b[0m\u001b[0;34m,\u001b[0m \u001b[0mDropout\u001b[0m\u001b[0;34m,\u001b[0m \u001b[0mSpatialDropout1D\u001b[0m\u001b[0;34m\u001b[0m\u001b[0;34m\u001b[0m\u001b[0m\n\u001b[1;32m      3\u001b[0m \u001b[0;34m\u001b[0m\u001b[0m\n\u001b[1;32m      4\u001b[0m \u001b[0;32mdef\u001b[0m \u001b[0mlstm_RNN\u001b[0m\u001b[0;34m(\u001b[0m\u001b[0mnum_classes\u001b[0m\u001b[0;34m,\u001b[0m \u001b[0mdropout_rate\u001b[0m\u001b[0;34m)\u001b[0m\u001b[0;34m:\u001b[0m\u001b[0;34m\u001b[0m\u001b[0;34m\u001b[0m\u001b[0m\n\u001b[1;32m      5\u001b[0m     \u001b[0mmodel\u001b[0m \u001b[0;34m=\u001b[0m \u001b[0mmodels\u001b[0m\u001b[0;34m.\u001b[0m\u001b[0mSequential\u001b[0m\u001b[0;34m(\u001b[0m\u001b[0;34m)\u001b[0m\u001b[0;34m\u001b[0m\u001b[0;34m\u001b[0m\u001b[0m\n",
            "\u001b[0;31mModuleNotFoundError\u001b[0m: No module named 'keras'"
          ]
        }
      ]
    },
    {
      "cell_type": "markdown",
      "metadata": {
        "id": "PeY_IAz-2XuS",
        "colab_type": "text"
      },
      "source": [
        "\n",
        "#### Model 4: Pretrained Embedded Model with MLP\n",
        "* Performance\n",
        "  * loss: 0.9027 - acc: 0.6317 - val_loss: 1.0744 - val_acc: 0.5468\n"
      ]
    },
    {
      "cell_type": "markdown",
      "metadata": {
        "id": "ImCBTkXg73z5",
        "colab_type": "text"
      },
      "source": [
        "\n",
        "\n",
        "\n",
        "* Import TFhub"
      ]
    },
    {
      "cell_type": "code",
      "metadata": {
        "id": "SothINOB7wDa",
        "colab_type": "code",
        "colab": {}
      },
      "source": [
        "!pip install -q tensorflow-hub\n",
        "\n"
      ],
      "execution_count": null,
      "outputs": []
    },
    {
      "cell_type": "code",
      "metadata": {
        "id": "dHo7uDIK7v4E",
        "colab_type": "code",
        "outputId": "a3b05792-86e0-4181-f967-134d4484430b",
        "colab": {
          "base_uri": "https://localhost:8080/",
          "height": 0
        }
      },
      "source": [
        "from keras import models\n",
        "import tensorflow_hub as hub\n",
        "import tensorflow_datasets as tfds\n",
        "\n",
        "embedding = \"https://tfhub.dev/google/tf2-preview/gnews-swivel-20dim/1\"\n",
        "hub_layer = hub.KerasLayer(embedding, input_shape=[], \n",
        "                           dtype=tf.string, trainable=True)\n",
        "\n",
        "def transferEmbedding(layers, units, dropout_rate, num_classes):\n",
        "  model = tf.keras.Sequential()\n",
        "  model.add(hub_layer)\n",
        "\n",
        "  for _ in range(layers-1):\n",
        "        model.add(tf.keras.layers.Dense(units=units, activation='relu'))\n",
        "        model.add(tf.keras.layers.Dropout(rate=dropout_rate))\n",
        "        model.add(tf.keras.layers.Dense(num_classes, activation=\"softmax\"))\n",
        "        # model.add(tf.keras.layers.Dense(num_classes, activation=\"sigmoid\"))\n",
        "\n",
        "  model.summary()\n",
        "  return model\n",
        "\n",
        "model = transferEmbedding(3, 32, 0.3, 2)"
      ],
      "execution_count": 50,
      "outputs": [
        {
          "output_type": "error",
          "ename": "ModuleNotFoundError",
          "evalue": "No module named 'keras'",
          "traceback": [
            "\u001b[0;31m---------------------------------------------------------------------------\u001b[0m",
            "\u001b[0;31mModuleNotFoundError\u001b[0m                       Traceback (most recent call last)",
            "\u001b[0;32m<ipython-input-50-a0919dfd6b9b>\u001b[0m in \u001b[0;36m<module>\u001b[0;34m\u001b[0m\n\u001b[0;32m----> 1\u001b[0;31m \u001b[0;32mfrom\u001b[0m \u001b[0mkeras\u001b[0m \u001b[0;32mimport\u001b[0m \u001b[0mmodels\u001b[0m\u001b[0;34m\u001b[0m\u001b[0;34m\u001b[0m\u001b[0m\n\u001b[0m\u001b[1;32m      2\u001b[0m \u001b[0;32mimport\u001b[0m \u001b[0mtensorflow_hub\u001b[0m \u001b[0;32mas\u001b[0m \u001b[0mhub\u001b[0m\u001b[0;34m\u001b[0m\u001b[0;34m\u001b[0m\u001b[0m\n\u001b[1;32m      3\u001b[0m \u001b[0;32mimport\u001b[0m \u001b[0mtensorflow_datasets\u001b[0m \u001b[0;32mas\u001b[0m \u001b[0mtfds\u001b[0m\u001b[0;34m\u001b[0m\u001b[0;34m\u001b[0m\u001b[0m\n\u001b[1;32m      4\u001b[0m \u001b[0;34m\u001b[0m\u001b[0m\n\u001b[1;32m      5\u001b[0m \u001b[0membedding\u001b[0m \u001b[0;34m=\u001b[0m \u001b[0;34m\"https://tfhub.dev/google/tf2-preview/gnews-swivel-20dim/1\"\u001b[0m\u001b[0;34m\u001b[0m\u001b[0;34m\u001b[0m\u001b[0m\n",
            "\u001b[0;31mModuleNotFoundError\u001b[0m: No module named 'keras'"
          ]
        }
      ]
    },
    {
      "cell_type": "markdown",
      "metadata": {
        "id": "g07ZHwau1K1B",
        "colab_type": "text"
      },
      "source": [
        "#### Model 5: RNN LSTM2\n",
        "  * 0.7894 - acc: 0.6669 - val_loss: 0.8719 - val_acc: 0.6285"
      ]
    },
    {
      "cell_type": "code",
      "metadata": {
        "id": "dB1XKvCU6nlZ",
        "colab_type": "code",
        "outputId": "f9b19a4f-9d70-4bf7-90fb-61ba6afd8642",
        "colab": {
          "base_uri": "https://localhost:8080/",
          "height": 306
        }
      },
      "source": [
        "def RNN_LSTM2(dropout_rate):\n",
        "  model = tf.keras.Sequential()\n",
        "  model.add(tf.keras.layers.Embedding(TOP_K, 200, input_length=training_data_vectorized.shape[1]))\n",
        "  model.add(tf.keras.layers.SpatialDropout1D(dropout_rate))\n",
        "  model.add(tf.keras.layers.LSTM(50, dropout=dropout_rate, recurrent_dropout=0.2))\n",
        "  model.add(tf.keras.layers.Dense(num_classes, activation='softmax'))\n",
        "  model.summary()\n",
        "  return model\n",
        "\n",
        "RNN_LSTM2(0.2)"
      ],
      "execution_count": null,
      "outputs": []
    },
    {
      "cell_type": "markdown",
      "metadata": {
        "id": "65EMGYdxkQBv",
        "colab_type": "text"
      },
      "source": [
        "#### Hyperparameters"
      ]
    },
    {
      "cell_type": "code",
      "metadata": {
        "id": "axSJLFcDkVDW",
        "colab_type": "code",
        "colab": {}
      },
      "source": [
        "learning_rate = 1e-4\n",
        "batch_size = 64\n",
        "epochs =20\n",
        "dropout_rate=0.2\n",
        "kernel_size = 3\n"
      ],
      "execution_count": 70,
      "outputs": []
    },
    {
      "cell_type": "markdown",
      "metadata": {
        "id": "ID8bm5aOH_Y9",
        "colab_type": "text"
      },
      "source": [
        "#### Training\n",
        "\n",
        "* https://ruder.io/optimizing-gradient-descent/"
      ]
    },
    {
      "cell_type": "code",
      "metadata": {
        "id": "-uE5qXgxoF7M",
        "colab_type": "code",
        "outputId": "085a722c-f9c0-4049-d9fd-cd49c072d870",
        "colab": {
          "base_uri": "https://localhost:8080/",
          "height": 782
        }
      },
      "source": [
        "\n",
        "\n",
        "# Initlize Model\n",
        "model = cnn_Model(num_classes=num_classes, dropout_rate=dropout_rate)\n",
        "# model = lstm_RNN(num_classes=num_classes, dropout_rate=dropout_rate)\n",
        "# model = transferEmbedding(layers=2, units=64, dropout_rate=dropout_rate, num_classes=num_classes)\n",
        "# model = RNN_LSTM2(dropout_rate=dropout_rate)\n",
        "\n",
        "\n",
        "callbacks = [tf.keras.callbacks.EarlyStopping(\n",
        "        monitor='val_loss', patience=2)]\n",
        "\n",
        "model.compile(optimizer=tf.keras.optimizers.Adam(learning_rate), loss='sparse_categorical_crossentropy', metrics=['acc'])\n",
        "# model.compile(optimizer=\"adadelta\", loss='sparse_categorical_crossentropy', metrics=['acc'])\n",
        "\n",
        "# Fit Model\n",
        "# remember to switch training data depending on model\n",
        "history = model.fit(\n",
        "            training_data_vectorized,\n",
        "            training_label,\n",
        "            epochs=epochs,\n",
        "            callbacks=callbacks,\n",
        "            validation_data=(validation_data_vectorized, validation_label),\n",
        "            verbose=1,  # Logs once per epoch.\n",
        "            batch_size=batch_size)\n"
      ],
      "execution_count": null,
      "outputs": []
    },
    {
      "cell_type": "markdown",
      "metadata": {
        "id": "wMCjpzap_aqu",
        "colab_type": "text"
      },
      "source": [
        "Plot loss graph"
      ]
    },
    {
      "cell_type": "code",
      "metadata": {
        "id": "LurX26O0G1lI",
        "colab_type": "code",
        "outputId": "b665996e-b17e-443b-f561-9064d3e43825",
        "colab": {
          "base_uri": "https://localhost:8080/",
          "height": 281
        }
      },
      "source": [
        "plt.title('Loss')\n",
        "plt.plot(history.history['loss'], label='train')\n",
        "plt.plot(history.history['val_loss'], label='test')\n",
        "plt.legend()\n",
        "plt.show();"
      ],
      "execution_count": null,
      "outputs": []
    },
    {
      "cell_type": "markdown",
      "metadata": {
        "id": "zOG-ZuU1Bx5g",
        "colab_type": "text"
      },
      "source": [
        "### Model Evaluation"
      ]
    },
    {
      "cell_type": "code",
      "metadata": {
        "id": "J5BaA_tWB3Fj",
        "colab_type": "code",
        "outputId": "031c4a68-779d-44ee-cddd-331e79e99269",
        "colab": {
          "base_uri": "https://localhost:8080/",
          "height": 51
        }
      },
      "source": [
        "loss,acc = model.evaluate(validation_data_vectorized,  validation_label, verbose=2)\n",
        "print(\"model accuracy: {:5.2f}% \\nmodel loss {:5.2f}\".format(100*acc, loss))\n"
      ],
      "execution_count": 200,
      "outputs": [
        {
          "output_type": "stream",
          "text": [
            "model accuracy: 76.94% \n",
            "model loss  0.58\n"
          ],
          "name": "stdout"
        }
      ]
    },
    {
      "cell_type": "code",
      "metadata": {
        "id": "ofY5P-dH9wbX",
        "colab_type": "code",
        "outputId": "3d7fdd43-361e-4f16-c48e-806fc8385583",
        "colab": {
          "base_uri": "https://localhost:8080/",
          "height": 797
        }
      },
      "source": [
        " from sklearn.metrics import classification_report, confusion_matrix\n",
        " import seaborn as sn\n",
        "\n",
        "\n",
        "#  labels = [\"anger\", \"happiness\", \"sadness\",\"worry\"]\n",
        " labels = [\"anger\", \"fear\", \"happiness\", \"sadness\"]\n",
        "\n",
        " predictions = model.predict(validation_data_vectorized)\n",
        " predictions = np.argmax(predictions,axis=1)\n",
        "\n",
        "print(classification_report(validation_label, predictions, target_names=labels))\n",
        "\n",
        "\n",
        "matrix = confusion_matrix(validation_label, predictions)\n",
        "plt.figure(figsize=(10,10))\n",
        "sn.heatmap(matrix, annot=True, annot_kws={\"size\": 11}) # font size\n",
        "plt.xlabel('Predicted')\n",
        "plt.ylabel('Validation')\n",
        "plt.xticks(np.arange(4), labels)\n",
        "plt.yticks(np.arange(4), labels)\n",
        "\n",
        "plt.show()"
      ],
      "execution_count": 202,
      "outputs": [
        {
          "output_type": "stream",
          "text": [
            "              precision    recall  f1-score   support\n",
            "\n",
            "       anger       0.83      0.77      0.80      2000\n",
            "        fear       0.93      0.88      0.91      2047\n",
            "   happiness       0.66      0.79      0.72      1967\n",
            "     sadness       0.67      0.64      0.65      1986\n",
            "\n",
            "    accuracy                           0.77      8000\n",
            "   macro avg       0.78      0.77      0.77      8000\n",
            "weighted avg       0.78      0.77      0.77      8000\n",
            "\n"
          ],
          "name": "stdout"
        },
        {
          "output_type": "display_data",
          "data": {
            "image/png": "[encoded data removed]",
            "text/plain": [
              "<Figure size 720x720 with 2 Axes>"
            ]
          },
          "metadata": {
            "tags": [],
            "needs_background": "light"
          }
        }
      ]
    },
    {
      "cell_type": "code",
      "metadata": {
        "id": "9GHASJDvroCs",
        "colab_type": "code",
        "colab": {
          "base_uri": "https://localhost:8080/",
          "height": 85
        },
        "outputId": "15a9859e-3da9-4a50-b5fe-f3530a3de082"
      },
      "source": [
        "from tensorflow.python.keras.preprocessing import text\n",
        "\n",
        "def tokenize_and_pad(input):\n",
        "    tokenizer = text.Tokenizer(num_words=TOP_K)\n",
        "    tokenizer.fit_on_texts(training_data)\n",
        "    tokenized = tokenizer.texts_to_sequences(input)\n",
        "    padded = sequence.pad_sequences(tokenized, maxlen=MAX_SEQUENCE_LENGTH)\n",
        "    return padded\n",
        "\n",
        "def predict_emo(input):\n",
        "    encoded = tokenize_and_pad([input])\n",
        "    return model.predict(encoded)\n",
        "\n",
        "'''\n",
        "  non transfer learning models\n",
        "  labels = [\"anger\", \"fear\", \"happiness\", \"sadness\"]\n",
        "'''\n",
        "emotion = np.argmax(predict_emo(\"he's so scary\"))\n",
        "print(f\"Predicted emotion: {labels[emotion]}\")\n",
        "\n",
        "emotion = np.argmax(predict_emo(\"I am over the moon\"))\n",
        "print(f\"Predicted emotion: {labels[emotion]}\")\n",
        "\n",
        "emotion = np.argmax(predict_emo(\"dont hurt me\"))\n",
        "print(f\"Predicted emotion: {labels[emotion]}\")\n",
        "\n",
        "emotion = np.argmax(predict_emo(\"I hate you, never want to see you again\"))\n",
        "print(f\"Predicted emotion: {labels[emotion]}\")\n",
        "\n",
        "# transfer learning model\n",
        "# model.predict([\"I am in pain\"])\n"
      ],
      "execution_count": 212,
      "outputs": [
        {
          "output_type": "stream",
          "text": [
            "Predicted emotion: fear\n",
            "Predicted emotion: happiness\n",
            "Predicted emotion: sadness\n",
            "Predicted emotion: anger\n"
          ],
          "name": "stdout"
        }
      ]
    },
    {
      "cell_type": "markdown",
      "metadata": {
        "id": "I_tK5eSKrsPP",
        "colab_type": "text"
      },
      "source": [
        "####Save Model\n"
      ]
    },
    {
      "cell_type": "code",
      "metadata": {
        "id": "QAzbH7JeRlK4",
        "colab_type": "code",
        "colab": {}
      },
      "source": [
        "model.save('test.h5')\n"
      ],
      "execution_count": 0,
      "outputs": []
    }
  ],
  "metadata": {
    "colab": {
      "name": "emotify.ipynb",
      "provenance": [],
      "collapsed_sections": [
        "2wcax_Ils-X_",
        "PeY_IAz-2XuS"
      ]
    },
    "kernelspec": {
      "name": "python3",
      "display_name": "Python 3"
    }
  },
  "nbformat": 4,
  "nbformat_minor": 0
}